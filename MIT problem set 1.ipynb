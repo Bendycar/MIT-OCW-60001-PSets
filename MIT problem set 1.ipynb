{
 "cells": [
  {
   "cell_type": "code",
   "execution_count": 16,
   "id": "5a93f92f-f4a5-4095-b7c3-8bc5cae3789c",
   "metadata": {},
   "outputs": [
    {
     "name": "stdin",
     "output_type": "stream",
     "text": [
      "Enter your annual salary: 80000\n",
      "Enter the percent of your salary to save, as a decimal: .15\n",
      "Enter the cost of your dream home: 500000\n"
     ]
    },
    {
     "name": "stdout",
     "output_type": "stream",
     "text": [
      "Number of months: 105\n"
     ]
    }
   ],
   "source": [
    "annual_salary = float(input(\"Enter your annual salary:\"))\n",
    "portion_saved = float(input(\"Enter the percent of your salary to save, as a decimal:\"))\n",
    "total_cost = float(input(\"Enter the cost of your dream home:\"))\n",
    "portion_down_payment = .25 * total_cost\n",
    "current_savings = 0\n",
    "r = .04 #Annual return on investments\n",
    "months = 0 \n",
    "\n",
    "while current_savings < portion_down_payment:\n",
    "    months += 1\n",
    "    current_savings += current_savings * r / 12 #Assignment states the ROI is calculated before monthly salary is added to savings\n",
    "    current_savings += (portion_saved * annual_salary)  / 12\n",
    "print(\"Number of months:\", months)"
   ]
  },
  {
   "cell_type": "code",
   "execution_count": 21,
   "id": "09a52317-c561-4813-b770-54b9ee868323",
   "metadata": {},
   "outputs": [
    {
     "name": "stdin",
     "output_type": "stream",
     "text": [
      "Enter your annual salary: 75000\n",
      "Enter the percent of your salary to save, as a decimal: .05\n",
      "Enter the cost of your dream home: 1500000\n",
      "Enter the semi-annual raise, as a decimal: .05\n"
     ]
    },
    {
     "name": "stdout",
     "output_type": "stream",
     "text": [
      "Number of months: 261\n"
     ]
    }
   ],
   "source": [
    "annual_salary = float(input(\"Enter your annual salary:\"))\n",
    "portion_saved = float(input(\"Enter the percent of your salary to save, as a decimal:\"))\n",
    "total_cost = float(input(\"Enter the cost of your dream home:\"))\n",
    "semi_annual_raise = float(input(\"Enter the semi-annual raise, as a decimal:\")) #The only difference between this cell and the previous\n",
    "portion_down_payment = .25 * total_cost\n",
    "current_savings = 0\n",
    "r = .04 #Annual return on investments\n",
    "months = 0 \n",
    "\n",
    "while current_savings < portion_down_payment:\n",
    "    months += 1\n",
    "    current_savings += current_savings * r / 12 #Assignment states the ROI is calculated before monthly salary is added to savings\n",
    "    current_savings += (portion_saved * annual_salary)  / 12\n",
    "    if months % 6 == 0:\n",
    "        annual_salary += annual_salary * semi_annual_raise\n",
    "        \n",
    "print(\"Number of months:\", months)"
   ]
  },
  {
   "cell_type": "code",
   "execution_count": 10,
   "id": "a2f46fd4-c6f6-4814-930b-857401b29006",
   "metadata": {},
   "outputs": [
    {
     "name": "stdin",
     "output_type": "stream",
     "text": [
      "Enter your annual salary: 150000\n"
     ]
    },
    {
     "name": "stdout",
     "output_type": "stream",
     "text": [
      "Best savings rate: 0.4411\n",
      "Number of steps in bisection search: 12\n"
     ]
    }
   ],
   "source": [
    "import math\n",
    "annual_salary = float(input(\"Enter your annual salary:\"))\n",
    "total_cost = 1000000\n",
    "semi_annual_raise = .07\n",
    "down_payment = .25 * total_cost\n",
    "current_savings = 0\n",
    "low = 0\n",
    "high = 10000\n",
    "r = .04 #Annual return on investments\n",
    "num_guesses = 0\n",
    "epsilon = 100\n",
    "\n",
    "while abs(current_savings - down_payment) >= epsilon:\n",
    "    portion_saved = int((low + high) / 2)\n",
    "    percent_saved = portion_saved / 10000\n",
    "    current_savings = 0\n",
    "    salary = annual_salary\n",
    "    for months in range(1, 37):\n",
    "        savings_invest =  (current_savings * r) / 12\n",
    "        savingpermonth = float(salary) / 12\n",
    "        current_savings += percent_saved*savingpermonth + savings_invest\n",
    "        if months % 6 == 0:\n",
    "            salary += salary * semi_annual_raise\n",
    "\n",
    "    if current_savings < down_payment:\n",
    "        low = portion_saved\n",
    "    else:\n",
    "        high = portion_saved\n",
    "    num_guesses += 1\n",
    "    if num_guesses > math.log2(total_cost):\n",
    "        print(\"It is not possible to save enough money within the given time frame.\")\n",
    "        break\n",
    "\n",
    "if num_guesses < math.log2(total_cost):\n",
    "    print(\"Best savings rate:\", percent_saved)\n",
    "    print(\"Number of steps in bisection search:\", num_guesses)"
   ]
  },
  {
   "cell_type": "code",
   "execution_count": null,
   "id": "e19212a8-e338-4e8a-9fcf-2203526766d0",
   "metadata": {},
   "outputs": [],
   "source": []
  }
 ],
 "metadata": {
  "kernelspec": {
   "display_name": "Python 3 (ipykernel)",
   "language": "python",
   "name": "python3"
  },
  "language_info": {
   "codemirror_mode": {
    "name": "ipython",
    "version": 3
   },
   "file_extension": ".py",
   "mimetype": "text/x-python",
   "name": "python",
   "nbconvert_exporter": "python",
   "pygments_lexer": "ipython3",
   "version": "3.11.6"
  }
 },
 "nbformat": 4,
 "nbformat_minor": 5
}
